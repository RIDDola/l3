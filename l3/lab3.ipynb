{
 "cells": [
  {
   "cell_type": "code",
   "execution_count": 1,
   "id": "9a6006ce",
   "metadata": {},
   "outputs": [],
   "source": [
    "import pandas as pd\n"
   ]
  },
  {
   "cell_type": "code",
   "execution_count": 2,
   "id": "d9c5d019",
   "metadata": {},
   "outputs": [],
   "source": [
    "import pandas as pd"
   ]
  },
  {
   "cell_type": "code",
   "execution_count": 3,
   "id": "84b7ec59",
   "metadata": {},
   "outputs": [
    {
     "data": {
      "text/plain": [
       "0     4\n",
       "1    10\n",
       "2    -5\n",
       "3    15\n",
       "dtype: int64"
      ]
     },
     "execution_count": 3,
     "metadata": {},
     "output_type": "execute_result"
    }
   ],
   "source": [
    "obj = pd.Series([4,10,-5,15])\n",
    "obj\n"
   ]
  },
  {
   "cell_type": "code",
   "execution_count": 4,
   "id": "99eb089b",
   "metadata": {},
   "outputs": [
    {
     "data": {
      "text/plain": [
       "0     True\n",
       "1     True\n",
       "2    False\n",
       "3    False\n",
       "dtype: bool"
      ]
     },
     "execution_count": 4,
     "metadata": {},
     "output_type": "execute_result"
    }
   ],
   "source": [
    "obj%2==0"
   ]
  },
  {
   "cell_type": "code",
   "execution_count": 5,
   "id": "06752ac0",
   "metadata": {},
   "outputs": [
    {
     "data": {
      "text/plain": [
       "(0     9\n",
       " 1    15\n",
       " 2     0\n",
       " 3    20\n",
       " dtype: int64,\n",
       " 0     6\n",
       " 1    12\n",
       " 2    -3\n",
       " 3    17\n",
       " dtype: int64)"
      ]
     },
     "execution_count": 5,
     "metadata": {},
     "output_type": "execute_result"
    }
   ],
   "source": [
    "obj+5, obj+2\n"
   ]
  },
  {
   "cell_type": "code",
   "execution_count": 6,
   "id": "c7ad8a09",
   "metadata": {},
   "outputs": [
    {
     "data": {
      "text/plain": [
       "0     4\n",
       "1    10\n",
       "dtype: int64"
      ]
     },
     "execution_count": 6,
     "metadata": {},
     "output_type": "execute_result"
    }
   ],
   "source": [
    "obj[obj%2==0]"
   ]
  },
  {
   "cell_type": "code",
   "execution_count": 7,
   "id": "7c55ae98",
   "metadata": {},
   "outputs": [
    {
     "name": "stdout",
     "output_type": "stream",
     "text": [
      "Ohio      35000\n",
      "Texas     71000\n",
      "Oregon    16000\n",
      "Utah       5000\n",
      "dtype: int64\n"
     ]
    }
   ],
   "source": [
    "sdata = {'Ohio': 35000, 'Texas': 71000, 'Oregon': 16000,'Utah': 5000}\n",
    "obj3 = pd.Series(sdata)\n",
    "print(obj3)"
   ]
  },
  {
   "cell_type": "code",
   "execution_count": 8,
   "id": "73be86c5",
   "metadata": {},
   "outputs": [
    {
     "name": "stdout",
     "output_type": "stream",
     "text": [
      "      name  age  cgpa  hoursStudied\n",
      "0    Alice   23   3.5            10\n",
      "1      Bob   24   3.4             6\n",
      "2  Charlie   22   3.9             8\n"
     ]
    }
   ],
   "source": [
    "list1 = [['Alice',23,3.5,10],['Bob',24,3.4,6],['Charlie',22,3.9,8]]\n",
    "df = pd.DataFrame(list1)\n",
    "df.columns = ['name','age','cgpa','hoursStudied']\n",
    "print(df.head())"
   ]
  },
  {
   "cell_type": "code",
   "execution_count": 9,
   "id": "7fbfaa5d",
   "metadata": {},
   "outputs": [
    {
     "name": "stdout",
     "output_type": "stream",
     "text": [
      "   id     name  age\n",
      "0   1    alice   20\n",
      "1   2      bob   25\n",
      "2   3  charlie   32\n"
     ]
    }
   ],
   "source": [
    "dict1 = {'id':[1,2,3],'name':['alice','bob','charlie'],'age':[20, 25, 32]}\n",
    "df1 = pd.DataFrame(dict1)\n",
    "print(df1)\n"
   ]
  },
  {
   "cell_type": "code",
   "execution_count": 10,
   "id": "3d463630",
   "metadata": {},
   "outputs": [
    {
     "data": {
      "text/html": [
       "<div>\n",
       "<style scoped>\n",
       "    .dataframe tbody tr th:only-of-type {\n",
       "        vertical-align: middle;\n",
       "    }\n",
       "\n",
       "    .dataframe tbody tr th {\n",
       "        vertical-align: top;\n",
       "    }\n",
       "\n",
       "    .dataframe thead th {\n",
       "        text-align: right;\n",
       "    }\n",
       "</style>\n",
       "<table border=\"1\" class=\"dataframe\">\n",
       "  <thead>\n",
       "    <tr style=\"text-align: right;\">\n",
       "      <th></th>\n",
       "      <th>0</th>\n",
       "      <th>1</th>\n",
       "      <th>2</th>\n",
       "      <th>3</th>\n",
       "    </tr>\n",
       "  </thead>\n",
       "  <tbody>\n",
       "    <tr>\n",
       "      <th>0</th>\n",
       "      <td>1</td>\n",
       "      <td>Alabama</td>\n",
       "      <td>4779736</td>\n",
       "      <td>5.7</td>\n",
       "    </tr>\n",
       "    <tr>\n",
       "      <th>1</th>\n",
       "      <td>2</td>\n",
       "      <td>Alaska</td>\n",
       "      <td>710231</td>\n",
       "      <td>5.6</td>\n",
       "    </tr>\n",
       "    <tr>\n",
       "      <th>2</th>\n",
       "      <td>3</td>\n",
       "      <td>Arizona</td>\n",
       "      <td>6392017</td>\n",
       "      <td>4.7</td>\n",
       "    </tr>\n",
       "    <tr>\n",
       "      <th>3</th>\n",
       "      <td>4</td>\n",
       "      <td>Arkansas</td>\n",
       "      <td>2915918</td>\n",
       "      <td>5.6</td>\n",
       "    </tr>\n",
       "    <tr>\n",
       "      <th>4</th>\n",
       "      <td>5</td>\n",
       "      <td>California</td>\n",
       "      <td>37253956</td>\n",
       "      <td>4.4</td>\n",
       "    </tr>\n",
       "    <tr>\n",
       "      <th>5</th>\n",
       "      <td>6</td>\n",
       "      <td>Colorado</td>\n",
       "      <td>5029196</td>\n",
       "      <td>2.8</td>\n",
       "    </tr>\n",
       "    <tr>\n",
       "      <th>6</th>\n",
       "      <td>7</td>\n",
       "      <td>Connecticut</td>\n",
       "      <td>3574097</td>\n",
       "      <td>2.4</td>\n",
       "    </tr>\n",
       "    <tr>\n",
       "      <th>7</th>\n",
       "      <td>8</td>\n",
       "      <td>Delaware</td>\n",
       "      <td>897934</td>\n",
       "      <td>5.8</td>\n",
       "    </tr>\n",
       "  </tbody>\n",
       "</table>\n",
       "</div>"
      ],
      "text/plain": [
       "   0            1         2    3\n",
       "0  1      Alabama   4779736  5.7\n",
       "1  2       Alaska    710231  5.6\n",
       "2  3      Arizona   6392017  4.7\n",
       "3  4     Arkansas   2915918  5.6\n",
       "4  5   California  37253956  4.4\n",
       "5  6     Colorado   5029196  2.8\n",
       "6  7  Connecticut   3574097  2.4\n",
       "7  8     Delaware    897934  5.8"
      ]
     },
     "execution_count": 10,
     "metadata": {},
     "output_type": "execute_result"
    }
   ],
   "source": [
    "df2 = pd.read_csv('sample_data_1.csv', header = None)\n",
    "df2"
   ]
  },
  {
   "cell_type": "code",
   "execution_count": 11,
   "id": "2adc1c52",
   "metadata": {},
   "outputs": [
    {
     "name": "stdout",
     "output_type": "stream",
     "text": [
      "   id        state  population  murder_rate\n",
      "0   1      Alabama     4779736          5.7\n",
      "1   2       Alaska      710231          5.6\n",
      "2   3      Arizona     6392017          4.7\n",
      "3   4     Arkansas     2915918          5.6\n",
      "4   5   California    37253956          4.4\n",
      "5   6     Colorado     5029196          2.8\n",
      "6   7  Connecticut     3574097          2.4\n",
      "7   8     Delaware      897934          5.8\n"
     ]
    },
    {
     "data": {
      "text/plain": [
       "id             8\n",
       "state          8\n",
       "population     8\n",
       "murder_rate    8\n",
       "dtype: int64"
      ]
     },
     "execution_count": 11,
     "metadata": {},
     "output_type": "execute_result"
    }
   ],
   "source": [
    "df2 = pd.read_csv('sample_data_1.csv', header = None)\n",
    "df2.columns=['id','state','population','murder_rate']\n",
    "print(df2)\n",
    "df2.head() # displays first 5 rows\n",
    "df2.tail() # displays last 5 rows\n",
    "df2.count() # displays number of values for each column"
   ]
  },
  {
   "cell_type": "code",
   "execution_count": 12,
   "id": "d36686b3",
   "metadata": {},
   "outputs": [
    {
     "name": "stdout",
     "output_type": "stream",
     "text": [
      "2.8\n",
      "Alaska\n"
     ]
    }
   ],
   "source": [
    "print(df2.iloc[5][3])\n",
    "print(df2.loc[1]['state'])"
   ]
  },
  {
   "cell_type": "code",
   "execution_count": 15,
   "id": "23841a9a",
   "metadata": {},
   "outputs": [
    {
     "name": "stdout",
     "output_type": "stream",
     "text": [
      "         state  population\n",
      "0      Alabama     4779736\n",
      "1       Alaska      710231\n",
      "2      Arizona     6392017\n",
      "3     Arkansas     2915918\n",
      "4   California    37253956\n",
      "5     Colorado     5029196\n",
      "6  Connecticut     3574097\n",
      "7     Delaware      897934\n"
     ]
    }
   ],
   "source": [
    "df3=df2[['state','population']]\n",
    "print(df3)"
   ]
  },
  {
   "cell_type": "code",
   "execution_count": 16,
   "id": "c011cdbe",
   "metadata": {},
   "outputs": [
    {
     "name": "stdout",
     "output_type": "stream",
     "text": [
      "   id    state  population  murder_rate\n",
      "1   2   Alaska      710231          5.6\n",
      "2   3  Arizona     6392017          4.7\n",
      "   id     name  age\n",
      "1   2      bob   25\n",
      "2   3  charlie   32\n"
     ]
    }
   ],
   "source": [
    "df4 = df2.loc[1:2]\n",
    "print(df4)\n",
    "df5 = df1.iloc[1:3]\n",
    "print(df5)"
   ]
  },
  {
   "cell_type": "code",
   "execution_count": 17,
   "id": "3a5494a5",
   "metadata": {},
   "outputs": [
    {
     "name": "stdout",
     "output_type": "stream",
     "text": [
      "      name  age\n",
      "1      bob   25\n",
      "2  charlie   32\n",
      "   id     name\n",
      "1   2      bob\n",
      "2   3  charlie\n"
     ]
    }
   ],
   "source": [
    "df4 = df1.loc[1:2,['name','age']]\n",
    "print(df4)\n",
    "df5 = df1.iloc[1:3,[0,1]]\n",
    "print(df5)"
   ]
  },
  {
   "cell_type": "code",
   "execution_count": 18,
   "id": "fd929dba",
   "metadata": {},
   "outputs": [],
   "source": [
    "list1 = [['Alice',23,3.5,10],['Bob',24,3.4,6],['Charlie',22,3.9,8]]\n",
    "df = pd.DataFrame(list1)\n",
    "df.columns = ['name','age','cgpa','hoursStudied']"
   ]
  },
  {
   "cell_type": "code",
   "execution_count": 19,
   "id": "89440b38",
   "metadata": {},
   "outputs": [],
   "source": [
    "list2 = [['Don',21,2.5,2],['Elton',25,2.75,4]]\n",
    "df11 = pd.DataFrame(list2)\n",
    "df11.columns = ['name','age','cgpa','hoursStudied']"
   ]
  },
  {
   "cell_type": "code",
   "execution_count": 20,
   "id": "50c51226",
   "metadata": {},
   "outputs": [
    {
     "name": "stdout",
     "output_type": "stream",
     "text": [
      "      name  age  cgpa  hoursStudied\n",
      "0    Alice   23  3.50            10\n",
      "1      Bob   24  3.40             6\n",
      "2  Charlie   22  3.90             8\n",
      "3      Don   21  2.50             2\n",
      "4    Elton   25  2.75             4\n"
     ]
    }
   ],
   "source": [
    "df12 = df.append(df11, ignore_index=True)\n",
    "print(df12)"
   ]
  },
  {
   "cell_type": "code",
   "execution_count": 21,
   "id": "1382e9c3",
   "metadata": {},
   "outputs": [],
   "source": [
    "df12.drop([0,1], inplace=True)\n",
    "df12.drop(['cgpa'], axis=1, inplace=True)"
   ]
  },
  {
   "cell_type": "code",
   "execution_count": 22,
   "id": "993599e5",
   "metadata": {},
   "outputs": [
    {
     "name": "stdout",
     "output_type": "stream",
     "text": [
      "         n   a  hs\n",
      "2  Charlie  22   8\n",
      "3      Don  21   2\n",
      "4    Elton  25   4\n"
     ]
    }
   ],
   "source": [
    "new_cols = ['n','a','hs']\n",
    "df12.columns=new_cols\n",
    "print(df12)"
   ]
  },
  {
   "cell_type": "code",
   "execution_count": 24,
   "id": "f99d8be8",
   "metadata": {},
   "outputs": [
    {
     "name": "stdout",
     "output_type": "stream",
     "text": [
      "      name  age  cgpa  hoursStudied\n",
      "2  Charlie   22   3.9             8\n",
      "      name  age  cgpa  hoursStudied\n",
      "2  Charlie   22   3.9             8\n",
      "      name  age  cgpa  hoursStudied\n",
      "2  Charlie   22   3.9             8\n"
     ]
    },
    {
     "data": {
      "text/html": [
       "<div>\n",
       "<style scoped>\n",
       "    .dataframe tbody tr th:only-of-type {\n",
       "        vertical-align: middle;\n",
       "    }\n",
       "\n",
       "    .dataframe tbody tr th {\n",
       "        vertical-align: top;\n",
       "    }\n",
       "\n",
       "    .dataframe thead th {\n",
       "        text-align: right;\n",
       "    }\n",
       "</style>\n",
       "<table border=\"1\" class=\"dataframe\">\n",
       "  <thead>\n",
       "    <tr style=\"text-align: right;\">\n",
       "      <th></th>\n",
       "      <th>id</th>\n",
       "      <th>name</th>\n",
       "      <th>age</th>\n",
       "    </tr>\n",
       "  </thead>\n",
       "  <tbody>\n",
       "    <tr>\n",
       "      <th>2</th>\n",
       "      <td>3</td>\n",
       "      <td>charlie</td>\n",
       "      <td>32</td>\n",
       "    </tr>\n",
       "    <tr>\n",
       "      <th>1</th>\n",
       "      <td>2</td>\n",
       "      <td>bob</td>\n",
       "      <td>25</td>\n",
       "    </tr>\n",
       "    <tr>\n",
       "      <th>0</th>\n",
       "      <td>1</td>\n",
       "      <td>alice</td>\n",
       "      <td>20</td>\n",
       "    </tr>\n",
       "  </tbody>\n",
       "</table>\n",
       "</div>"
      ],
      "text/plain": [
       "   id     name  age\n",
       "2   3  charlie   32\n",
       "1   2      bob   25\n",
       "0   1    alice   20"
      ]
     },
     "execution_count": 24,
     "metadata": {},
     "output_type": "execute_result"
    }
   ],
   "source": [
    "cgpa_greater_than_three_point_five1 = df[df['cgpa'] > 3.5]\n",
    "cgpa_greater_than_three_point_five2 = df.loc[df['cgpa'] > 3.5]\n",
    "cgpa_greater_than_three_point_five3 = df.query('cgpa > 3.5')\n",
    "\n",
    "print(cgpa_greater_than_three_point_five1)\n",
    "print(cgpa_greater_than_three_point_five2)\n",
    "print(cgpa_greater_than_three_point_five3)\n",
    "df1.sort_values(by='age',ascending=False)"
   ]
  },
  {
   "cell_type": "code",
   "execution_count": null,
   "id": "df71d74f",
   "metadata": {},
   "outputs": [],
   "source": []
  }
 ],
 "metadata": {
  "kernelspec": {
   "display_name": "Python 3 (ipykernel)",
   "language": "python",
   "name": "python3"
  },
  "language_info": {
   "codemirror_mode": {
    "name": "ipython",
    "version": 3
   },
   "file_extension": ".py",
   "mimetype": "text/x-python",
   "name": "python",
   "nbconvert_exporter": "python",
   "pygments_lexer": "ipython3",
   "version": "3.9.7"
  }
 },
 "nbformat": 4,
 "nbformat_minor": 5
}
